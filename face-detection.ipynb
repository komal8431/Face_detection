{
 "cells": [
  {
   "cell_type": "code",
   "execution_count": null,
   "id": "a4ce0271-d2e0-4bdb-8590-fe929e91b467",
   "metadata": {},
   "outputs": [],
   "source": [
    "'''face detection and tracking by using computer vision\n",
    "face detection and its algorithm\n",
    "Haar cascade frontalface algorithm\n",
    "its based on harr wavelet technique to analyze pixels in the image into \n",
    "squares by function\n",
    "this uses ml techniques to get a high degree of accuracy from what is called \n",
    "training data\n",
    "this uses integral image concepts to compute the features detected\n",
    "haar cascades use the adaboost learning algorithm which selects a small number of\n",
    "imp features from a large set to give an efficient result of classifiers\n",
    "haar_cascade=cv2.CascadeClassifier(alg)=Haar cascade classifier file that contains the necessary data for detecting frontal faces.\n",
    "'''"
   ]
  },
  {
   "cell_type": "code",
   "execution_count": 3,
   "id": "a49fef1c-fc87-4b47-b25c-97d1569631a1",
   "metadata": {},
   "outputs": [],
   "source": [
    "import cv2\n",
    "alg = \"haarcascade_frontalface_default.xml\"\n",
    "haar_cascade=cv2.CascadeClassifier(alg)\n",
    "cam=cv2.VideoCapture(0)\n",
    "while True:\n",
    "    _,img=cam.read()\n",
    "    grayImg=cv2.cvtColor(img,cv2.COLOR_BGR2GRAY)\n",
    "    face= haar_cascade.detectMultiScale(grayImg,scaleFactor=1.3, minNeighbors=4)\n",
    "    for(x,y,w,h) in face:\n",
    "        cv2.rectangle(img,(x,y),(x+w,y+h),(0,255,0),2)\n",
    "    cv2.imshow(\"faceDetection\",img)\n",
    "    key=cv2.waitKey(1) & 0xFF\n",
    "    if key == ord(\"q\"):\n",
    "          break\n",
    "cam.release()\n",
    "cv2.destroyAllWindows()"
   ]
  }
 ],
 "metadata": {
  "kernelspec": {
   "display_name": "Python 3 (ipykernel)",
   "language": "python",
   "name": "python3"
  },
  "language_info": {
   "codemirror_mode": {
    "name": "ipython",
    "version": 3
   },
   "file_extension": ".py",
   "mimetype": "text/x-python",
   "name": "python",
   "nbconvert_exporter": "python",
   "pygments_lexer": "ipython3",
   "version": "3.12.7"
  }
 },
 "nbformat": 4,
 "nbformat_minor": 5
}
